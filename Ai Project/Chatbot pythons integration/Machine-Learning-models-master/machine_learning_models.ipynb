{
  "nbformat": 4,
  "nbformat_minor": 0,
  "metadata": {
    "colab": {
      "name": "machine_learning.ipynb",
      "provenance": [],
      "collapsed_sections": [],
      "toc_visible": true
    },
    "kernelspec": {
      "name": "python3",
      "display_name": "Python 3"
    }
  },
  "cells": [
    {
      "cell_type": "markdown",
      "metadata": {
        "id": "dGzJDmxStkjB",
        "colab_type": "text"
      },
      "source": [
        "ML_Models"
      ]
    },
    {
      "cell_type": "code",
      "metadata": {
        "id": "lWwIQO9WvAjI",
        "colab_type": "code",
        "colab": {}
      },
      "source": [
        "from sklearn.feature_extraction.text import CountVectorizer\n",
        "from sklearn.feature_extraction import DictVectorizer\n",
        "from sklearn.model_selection import train_test_split\n",
        "from sklearn.linear_model import RidgeClassifier\n",
        "from sklearn.naive_bayes import MultinomialNB\n",
        "from sklearn.neighbors import KNeighborsClassifier\n",
        "from sklearn.tree import DecisionTreeClassifier\n",
        "from sklearn import svm\n",
        "import pandas as pd\n",
        "import numpy as np"
      ],
      "execution_count": 0,
      "outputs": []
    },
    {
      "cell_type": "code",
      "metadata": {
        "id": "ZNjHP8xjvAR2",
        "colab_type": "code",
        "colab": {}
      },
      "source": [
        "df = pd.read_csv('classification.csv')\n",
        "df_names = df\n",
        "Xfeatures = df_names['Names']\n",
        "cv = CountVectorizer()\n",
        "x = cv.fit_transform(Xfeatures)\n",
        "y = df_names.Classes\n",
        "x_train, x_test, y_train, y_test = train_test_split(x, y, test_size=0.33, random_state=12)"
      ],
      "execution_count": 0,
      "outputs": []
    },
    {
      "cell_type": "code",
      "metadata": {
        "id": "JN0IHhCau_yv",
        "colab_type": "code",
        "colab": {}
      },
      "source": [
        "knn = KNeighborsClassifier(n_neighbors=158)\n",
        "r_c = RidgeClassifier()\n",
        "m_nb = MultinomialNB()\n",
        "dt_c = DecisionTreeClassifier()\n",
        "svm_c = svm.SVC()"
      ],
      "execution_count": 0,
      "outputs": []
    },
    {
      "cell_type": "code",
      "metadata": {
        "id": "jgsonopQBwEq",
        "colab_type": "code",
        "colab": {}
      },
      "source": [
        "knn.fit(x_train, y_train)\n",
        "r_c.fit(x_train, y_train)\n",
        "m_nb.fit(x_train, y_train)\n",
        "dt_c.fit(x_train, y_train)\n",
        "svm_c.fit(x_train, y_train)"
      ],
      "execution_count": 0,
      "outputs": []
    },
    {
      "cell_type": "code",
      "metadata": {
        "id": "84lqivU9B-7M",
        "colab_type": "code",
        "colab": {}
      },
      "source": [
        "k = knn.score(x_test, y_test)\n",
        "r = r_c.score(x_test, y_test)\n",
        "m = m_nb.score(x_test, y_test)\n",
        "d = dt_c.score(x_test, y_test)\n",
        "s = svm_c.score(x_test, y_test)"
      ],
      "execution_count": 0,
      "outputs": []
    },
    {
      "cell_type": "code",
      "metadata": {
        "id": "dlORnjmFCExK",
        "colab_type": "code",
        "colab": {}
      },
      "source": [
        "score_list = [k, r, m, d, s]\n",
        "sorted(score_list, reverse= True)"
      ],
      "execution_count": 0,
      "outputs": []
    },
    {
      "cell_type": "code",
      "metadata": {
        "id": "oNyFMwnxDDB4",
        "colab_type": "code",
        "colab": {}
      },
      "source": [
        "\n",
        "model = ''.join(map(str, score_list))"
      ],
      "execution_count": 0,
      "outputs": []
    },
    {
      "cell_type": "markdown",
      "metadata": {
        "colab_type": "text",
        "id": "8Be2uaORJQay"
      },
      "source": [
        "Sample Prediction"
      ]
    },
    {
      "cell_type": "code",
      "metadata": {
        "colab_type": "code",
        "id": "dwG6wAC6JQa0",
        "colab": {}
      },
      "source": [
        "sample_name = ['Apple']\n",
        "vect = cv.transform(sample_name).toarray()"
      ],
      "execution_count": 0,
      "outputs": []
    },
    {
      "cell_type": "code",
      "metadata": {
        "colab_type": "code",
        "id": "cby6oYUPJQa7",
        "colab": {}
      },
      "source": [
        "clf.predict(vect)"
      ],
      "execution_count": 0,
      "outputs": []
    },
    {
      "cell_type": "code",
      "metadata": {
        "colab_type": "code",
        "id": "ovJu99QTJQbB",
        "colab": {}
      },
      "source": [
        "sample_name = ['9']\n",
        "vect = cv.transform(sample_name).toarray()"
      ],
      "execution_count": 0,
      "outputs": []
    },
    {
      "cell_type": "code",
      "metadata": {
        "colab_type": "code",
        "id": "1yO00X2JJQbH",
        "colab": {}
      },
      "source": [
        "clf.predict(vect)"
      ],
      "execution_count": 0,
      "outputs": []
    }
  ]
}